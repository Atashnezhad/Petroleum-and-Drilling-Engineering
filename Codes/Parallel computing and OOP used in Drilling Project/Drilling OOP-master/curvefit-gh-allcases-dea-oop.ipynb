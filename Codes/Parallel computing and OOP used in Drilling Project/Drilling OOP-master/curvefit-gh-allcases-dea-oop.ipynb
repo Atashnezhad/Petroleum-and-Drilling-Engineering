{
 "cells": [
  {
   "cell_type": "code",
   "execution_count": 2,
   "metadata": {},
   "outputs": [
    {
     "name": "stdout",
     "output_type": "stream",
     "text": [
      "Collecting numpy\n",
      "\u001b[?25l  Downloading https://files.pythonhosted.org/packages/ba/e0/46e2f0540370f2661b044647fa447fef2ecbcc8f7cdb4329ca2feb03fb23/numpy-1.17.2-cp37-cp37m-manylinux1_x86_64.whl (20.3MB)\n",
      "\u001b[K     |████████████████████████████████| 20.3MB 3.3MB/s eta 0:00:01\n",
      "\u001b[?25hInstalling collected packages: numpy\n",
      "Successfully installed numpy-1.17.2\n",
      "Collecting pandas\n",
      "\u001b[?25l  Downloading https://files.pythonhosted.org/packages/7e/ab/ea76361f9d3e732e114adcd801d2820d5319c23d0ac5482fa3b412db217e/pandas-0.25.1-cp37-cp37m-manylinux1_x86_64.whl (10.4MB)\n",
      "\u001b[K     |████████████████████████████████| 10.4MB 3.4MB/s eta 0:00:01\n",
      "\u001b[?25hCollecting pytz>=2017.2 (from pandas)\n",
      "\u001b[?25l  Downloading https://files.pythonhosted.org/packages/87/76/46d697698a143e05f77bec5a526bf4e56a0be61d63425b68f4ba553b51f2/pytz-2019.2-py2.py3-none-any.whl (508kB)\n",
      "\u001b[K     |████████████████████████████████| 512kB 52.5MB/s eta 0:00:01\n",
      "\u001b[?25hRequirement already satisfied: numpy>=1.13.3 in /srv/conda/envs/notebook/lib/python3.7/site-packages (from pandas) (1.17.2)\n",
      "Requirement already satisfied: python-dateutil>=2.6.1 in /srv/conda/envs/notebook/lib/python3.7/site-packages (from pandas) (2.8.0)\n",
      "Requirement already satisfied: six>=1.5 in /srv/conda/envs/notebook/lib/python3.7/site-packages (from python-dateutil>=2.6.1->pandas) (1.12.0)\n",
      "Installing collected packages: pytz, pandas\n",
      "Successfully installed pandas-0.25.1 pytz-2019.2\n",
      "Collecting matplotlib\n",
      "\u001b[?25l  Downloading https://files.pythonhosted.org/packages/19/7a/60bd79c5d79559150f8bba866dd7d434f0a170312e4d15e8aefa5faba294/matplotlib-3.1.1-cp37-cp37m-manylinux1_x86_64.whl (13.1MB)\n",
      "\u001b[K     |████████████████████████████████| 13.1MB 3.3MB/s eta 0:00:01\n",
      "\u001b[?25hCollecting cycler>=0.10 (from matplotlib)\n",
      "  Downloading https://files.pythonhosted.org/packages/f7/d2/e07d3ebb2bd7af696440ce7e754c59dd546ffe1bbe732c8ab68b9c834e61/cycler-0.10.0-py2.py3-none-any.whl\n",
      "Requirement already satisfied: numpy>=1.11 in /srv/conda/envs/notebook/lib/python3.7/site-packages (from matplotlib) (1.17.2)\n",
      "Requirement already satisfied: python-dateutil>=2.1 in /srv/conda/envs/notebook/lib/python3.7/site-packages (from matplotlib) (2.8.0)\n",
      "Collecting kiwisolver>=1.0.1 (from matplotlib)\n",
      "\u001b[?25l  Downloading https://files.pythonhosted.org/packages/93/f8/518fb0bb89860eea6ff1b96483fbd9236d5ee991485d0f3eceff1770f654/kiwisolver-1.1.0-cp37-cp37m-manylinux1_x86_64.whl (90kB)\n",
      "\u001b[K     |████████████████████████████████| 92kB 25.3MB/s eta 0:00:01\n",
      "\u001b[?25hCollecting pyparsing!=2.0.4,!=2.1.2,!=2.1.6,>=2.0.1 (from matplotlib)\n",
      "\u001b[?25l  Downloading https://files.pythonhosted.org/packages/11/fa/0160cd525c62d7abd076a070ff02b2b94de589f1a9789774f17d7c54058e/pyparsing-2.4.2-py2.py3-none-any.whl (65kB)\n",
      "\u001b[K     |████████████████████████████████| 71kB 20.9MB/s eta 0:00:01\n",
      "\u001b[?25hRequirement already satisfied: six in /srv/conda/envs/notebook/lib/python3.7/site-packages (from cycler>=0.10->matplotlib) (1.12.0)\n",
      "Requirement already satisfied: setuptools in /srv/conda/envs/notebook/lib/python3.7/site-packages (from kiwisolver>=1.0.1->matplotlib) (41.2.0)\n",
      "Installing collected packages: cycler, kiwisolver, pyparsing, matplotlib\n",
      "Successfully installed cycler-0.10.0 kiwisolver-1.1.0 matplotlib-3.1.1 pyparsing-2.4.2\n"
     ]
    }
   ],
   "source": [
    "!pip install numpy\n",
    "!pip install pandas\n",
    "!pip install matplotlib"
   ]
  },
  {
   "cell_type": "code",
   "execution_count": 3,
   "metadata": {},
   "outputs": [],
   "source": [
    "import math\n",
    "import time\n",
    "import numpy as np\n",
    "import pandas as pd\n",
    "import matplotlib\n",
    "import matplotlib.pyplot as plt\n",
    "import concurrent.futures"
   ]
  },
  {
   "cell_type": "code",
   "execution_count": 4,
   "metadata": {},
   "outputs": [
    {
     "name": "stdout",
     "output_type": "stream",
     "text": [
      "3.7.3\n"
     ]
    }
   ],
   "source": [
    "from platform import python_version\n",
    "print(python_version())"
   ]
  },
  {
   "cell_type": "code",
   "execution_count": 3,
   "metadata": {},
   "outputs": [],
   "source": [
    "class cutter:\n",
    "    \n",
    "    def __init__(self, BR, Vc, UCS, Dc, Aw, cutter_DOC_data_list, cutter_IFA_data_list, cutter_Fn_data, cutter_Fd_data):\n",
    "        self.BR = BR # cutter back rake angle\n",
    "        self.Vc = Vc # cutter velocity\n",
    "        self.DOC_data = cutter_DOC_data_list # list of cutter depth of cut (data)\n",
    "        self.IFA_data = cutter_IFA_data_list # list of cutter IFA values (data)\n",
    "        self.VN = Vc / 2.1 # normalized cutter velocity\n",
    "        self.UCS = UCS # rock unconfined compressive strength\n",
    "        self.UCSN = UCS / 5000 # normalized rock unconfined compressive strength\n",
    "        self.Dc = Dc # cutter diameter\n",
    "        self.Rc = Dc/2 # cutter radius\n",
    "        self.Aw = Aw # wearflat area sq-inch\n",
    "        self.Fn_data = cutter_Fn_data # cutter normal force. for blunt cutter case.\n",
    "        self.Fd_data = cutter_Fd_data # cutter drag force. for blunt cutter case.\n",
    "        \n",
    "    def Model_IFA(self, DOC,w):\n",
    "        ''' A model for IFA calculation. it takes DOC,\n",
    "        normalized cutter velocity, normalized rock \n",
    "        UCS and cutter back rake and returns the IFA.'''\n",
    "        DOCn = DOC / self.Dc # normalize DOC \n",
    "        C1 = w[0] + (w[1])/((self.VN)**w[2] + w[3])\n",
    "        C2 = w[4] + (w[5])/((self.VN)**w[6]+ w[7])\n",
    "        C_P = w[8]\n",
    "        C3 = w[9] + w[10]/((self.UCSN**w[11])+w[12])\n",
    "        return (C1+C2/((DOCn**C_P)+C3))-self.BR\n",
    "    \n",
    "    def Find_L(self):\n",
    "        '''A function that search for L on cutter face.\n",
    "        Applicable to blunt cutter.'''\n",
    "        diff = 10\n",
    "        L = 0\n",
    "        while diff > 0.0001:\n",
    "            L += 0.00001\n",
    "            A_segment_esti = ((self.Rc)**2*math.acos((self.Rc-L)/self.Rc)\\\n",
    "                       -(self.Rc-L)*((self.Dc*L-(L)**2)**0.5))\n",
    "            diff = abs(self.Aw_on_cutter_face-A_segment_esti)\n",
    "        return L\n",
    "    \n",
    "    def Calculate_fitness(self, w):\n",
    "        \n",
    "        if self.Aw == 0:\n",
    "            \n",
    "            self.IFA_using_Model = [self.Model_IFA(DOC,w) for DOC in self.DOC_data]\n",
    "            self.ABS_Error = sum([abs((i-j)/i) for i,j in zip(self.IFA_data,self.IFA_using_Model)])/len(self.DOC_data)\n",
    "            \n",
    "        else:\n",
    "                        \n",
    "            self.Fn_Fd_list = [i / j for i, j in zip(self.Fn_data, self.Fd_data)] # cutter normal to drag force ratio\n",
    "            self.IFA_list_DD_Model = [((math.atan(Fn_Fd)*180)/math.pi-self.BR) for Fn_Fd in self.Fn_Fd_list] # calculated IFA list\n",
    "            self.IFA_list_with_Model = [self.Model_IFA(DOC,w) for DOC in self.DOC_data]\n",
    "            self.Aw_on_cutter_face = self.Aw*math.cos(math.radians((90-self.BR)))\n",
    "            self.L_list = [(DOC/math.cos(math.radians(self.BR))) for DOC in self.DOC_data] # DOC projected length on cutter face\n",
    "            self.L_worn = self.Find_L() # single value\n",
    "            self.Total_L = [(self.L_worn + L) for L in self.L_list] # total L, summation \n",
    "            self.A_total_segment = [((self.Rc)**2*math.acos((self.Rc-L)/self.Rc)-(self.Rc-L)*((self.Dc*L-(L)**2)**0.5)) for L in self.Total_L]\n",
    "            self.A_real_contact_list = [(a-self.Aw_on_cutter_face) for a in self.A_total_segment]\n",
    "            #============================================================================================\n",
    "            self.A_F_list_without_IFA = [(A_contact*math.cos(math.radians(self.BR))) for A_contact in self.A_real_contact_list] \n",
    "            self.F_d_without_IFA = [A_F * self.UCS for A_F in self.A_F_list_without_IFA]\n",
    "            self.A_F_list_with_IFA = [(A_contact*math.cos(math.radians(IFA+self.BR))) for IFA, A_contact in zip(self.IFA_list_with_Model, self.A_real_contact_list)] \n",
    "            self.F_d_with_IFA = [A_F * self.UCS for A_F in self.A_F_list_with_IFA]\n",
    "            self.A_B_list_without_IFA = [(A_contact*math.sin(math.radians(self.BR))) for A_contact in self.A_real_contact_list] \n",
    "            self.F_n_without_IFA = [A_B * self.UCS for A_B in self.A_B_list_without_IFA]\n",
    "            self.A_B_list_with_IFA = [(A_contact*math.sin(math.radians(IFA+self.BR))) for IFA, A_contact in zip(self.IFA_list_with_Model, self.A_real_contact_list)] \n",
    "            self.F_n_with_IFA = [A_B * self.UCS for A_B in self.A_B_list_with_IFA]\n",
    "            #============================================================================================\n",
    "            miu = 0.6 # internal friction coefficient for SWG\n",
    "            self.F_n_with_IFA_miu = [Fn + self.Aw*self.UCS for Fn in self.F_n_with_IFA]\n",
    "            self.F_d_with_IFA_miu = [Fd+(self.Aw*self.UCS*miu) for Fd in self.F_d_with_IFA]\n",
    "            #============================================================================================\n",
    "            self.ABS_Error_Fn = sum([abs((i-j)/j) for i,j in zip(self.F_n_with_IFA_miu, self.Fn_data)])/len(self.DOC_data)\n",
    "            self.ABS_Error_Fd = sum([abs((i-j)/j) for i,j in zip(self.F_d_with_IFA_miu, self.Fd_data)])/len(self.DOC_data)\n",
    "            self.ABS_Error = self.ABS_Error_Fn + self.ABS_Error_Fd\n",
    "        return (self.ABS_Error)   "
   ]
  },
  {
   "cell_type": "markdown",
   "metadata": {},
   "source": [
    "### Data for Case1: UCS = 3000 psi, Vc = 2.1 in/sec, BR = 20, Dc = 0.5\""
   ]
  },
  {
   "cell_type": "code",
   "execution_count": 4,
   "metadata": {},
   "outputs": [],
   "source": [
    "case1_DOC_data = [0.001,0.005,0.01,0.015,0.02,0.025,0.03,0.035,0.04,0.045,0.05,0.055\\\n",
    "                ,0.06,0.065,0.07,0.075,0.08,0.085,0.09,0.095,0.1,0.105,0.11,0.115,0.12]\n",
    "case1_IFA_data = [10,10,10,10,10,10,10,10,10,10,10,10,10,\\\n",
    "                         10,10,10,10,10,10,10,10,10,10,10,10]\n",
    "case1_Fn_data = 0\n",
    "case1_Fd_data = 0\n",
    "\n",
    "#'(BR, Vc, UCS, Dc, Aw, cutter_DOC_data_list, cutter_IFA_data_list, cutter_Fn_data, cutter_Fd_data)'\n",
    "case1 = cutter(20, 2.1, 3000, 0.5, 0, case1_DOC_data, case1_IFA_data, case1_Fn_data, case1_Fd_data)\n",
    "#print('Case1 details',case1.__dict__)"
   ]
  },
  {
   "cell_type": "markdown",
   "metadata": {},
   "source": [
    "### Data for Case2: UCS = 7100 psi, Vc = 2.1 in/sec, BR = 20, Dc = 0.5\""
   ]
  },
  {
   "cell_type": "code",
   "execution_count": 5,
   "metadata": {},
   "outputs": [],
   "source": [
    "case2_DOC_data = [0.001,0.005,0.01,0.015,0.02,0.025,0.03,0.035,0.04,0.045,0.05,0.055\\\n",
    "                ,0.06,0.065,0.07,0.075,0.08,0.085,0.09,0.095,0.1,0.105,0.11,0.115,0.12]\n",
    "case2_IFA_data = [20,20,20,20,20,20,20,20,20,20,20,20,20,20,\\\n",
    "                         20,20,20,20,20,20,20,20,20,20,20]\n",
    "case2_Fn_data = 0\n",
    "case2_Fd_data = 0\n",
    "\n",
    "#'(BR, Vc, UCS, Dc, Aw, cutter_DOC_data_list, cutter_IFA_data_list, cutter_Fn_data, cutter_Fd_data)'\n",
    "case2 = cutter(20, 2.1, 7100, 0.5, 0, case2_DOC_data, case2_IFA_data, case2_Fn_data, case2_Fd_data)\n",
    "#print('Case2 details',case2.__dict__)"
   ]
  },
  {
   "cell_type": "markdown",
   "metadata": {},
   "source": [
    "### Data for Case3: UCS = 21500 psi, Vc = 2.1 in/sec, BR = 20, Dc = 0.5\""
   ]
  },
  {
   "cell_type": "code",
   "execution_count": 6,
   "metadata": {},
   "outputs": [],
   "source": [
    "case3_DOC_data = [0.001,0.005,0.01,0.015,0.02,0.025,0.03,0.035,0.04,0.045,0.05,0.055\\\n",
    "                ,0.06,0.065,0.07,0.075,0.08,0.085,0.09,0.095,0.1,0.105,0.11,0.115,0.12]\n",
    "case3_IFA_data = [62.49,44.78,38.80,35.67,33.61,32.09,30.90,29.93,29.12,28.42,27.80,\\\n",
    "                         27.26,26.77,26.33,25.93,25.57,25.23,24.91,24.62,24.34,24.09,23.85,\\\n",
    "                         23.62,23.40,23.20]\n",
    "case3_Fn_data = 0\n",
    "case3_Fd_data = 0\n",
    "\n",
    "#'(BR, Vc, UCS, Dc, Aw, cutter_DOC_data_list, cutter_IFA_data_list, cutter_Fn_data, cutter_Fd_data)'\n",
    "case3 = cutter(20, 2.1, 21500, 0.5, 0, case3_DOC_data, case3_IFA_data, case3_Fn_data, case3_Fd_data)\n",
    "#print('Case3 details',case3.__dict__)"
   ]
  },
  {
   "cell_type": "markdown",
   "metadata": {},
   "source": [
    "### Data for Case4: UCS = 19400 psi, Vc = 177 in/sec, BR = 5, Dc = 0.5\""
   ]
  },
  {
   "cell_type": "code",
   "execution_count": 7,
   "metadata": {},
   "outputs": [],
   "source": [
    "case4_DOC_data = [0.001,0.005,0.01,0.015,0.02,0.025,0.03,0.035,0.04,0.045,0.05,0.055\\\n",
    "                ,0.06,0.065,0.07,0.075,0.08,0.085,0.09,0.095,0.1,0.105,0.11,0.115,0.12]\n",
    "case4_IFA_data = [107.23,89.83,83.24,79.61,77.13,75.26,73.76,72.52,71.47,70.55,\\\n",
    "                         69.73,69.01,68.35,67.75,67.20,66.69,66.22,65.78,65.37,\\\n",
    "                         64.98,64.61,64.27,63.94,63.63,63.33]\n",
    "case4_Fn_data = 0\n",
    "case4_Fd_data = 0\n",
    "\n",
    "#'(BR, Vc, UCS, Dc, Aw, cutter_DOC_data_list, cutter_IFA_data_list, cutter_Fn_data, cutter_Fd_data)'\n",
    "case4 = cutter(20, 177, 19400, 0.5, 0, case4_DOC_data, case4_IFA_data, case4_Fn_data, case4_Fd_data)\n",
    "#print('Case4 details',case4.__dict__)"
   ]
  },
  {
   "cell_type": "markdown",
   "metadata": {},
   "source": [
    "### Data for Case5: UCS = 19400 psi, Vc = 177 in/sec, BR = 10, Dc = 0.5\""
   ]
  },
  {
   "cell_type": "code",
   "execution_count": 8,
   "metadata": {},
   "outputs": [],
   "source": [
    "case5_DOC_data = [0.001,0.005,0.01,0.015,0.02,0.025,0.03,0.035,0.04,0.045,0.05,0.055\\\n",
    "                ,0.06,0.065,0.07,0.075,0.08,0.085,0.09,0.095,0.1,0.105,0.11,0.115,0.12]\n",
    "case5_IFA_data = [91.54,79.45,74.75,72.13,70.33,68.96,67.86,66.95,\\\n",
    "                         66.16,65.48,64.88,64.34,63.84,63.40,62.98,62.60,\\\n",
    "                         62.25,61.92,61.61,61.31,61.04,60.78,60.53,60.29,60.07]\n",
    "case5_Fn_data = 0\n",
    "case5_Fd_data = 0\n",
    "\n",
    "#'(BR, Vc, UCS, Dc, Aw, cutter_DOC_data_list, cutter_IFA_data_list, cutter_Fn_data, cutter_Fd_data)'\n",
    "case5 = cutter(10, 177, 19400, 0.5, 0, case5_DOC_data, case5_IFA_data, case5_Fn_data, case5_Fd_data)\n",
    "#print('Case5 details',case5.__dict__)"
   ]
  },
  {
   "cell_type": "markdown",
   "metadata": {},
   "source": [
    "### Data for Case6: UCS = 19400 psi, Vc = 177 in/sec, BR = 15, Dc = 0.5\""
   ]
  },
  {
   "cell_type": "code",
   "execution_count": 9,
   "metadata": {},
   "outputs": [],
   "source": [
    "case6_DOC_data = [0.001,0.005,0.01,0.015,0.02,0.025,0.03,0.035,0.04,0.045,0.05,0.055\\\n",
    "                ,0.06,0.065,0.07,0.075,0.08,0.085,0.09,0.095,0.1,0.105,0.11,0.115,0.12]\n",
    "case6_IFA_data = [91.14,77.21,71.89,68.95,66.94,65.42,64.20,63.19,\\\n",
    "                         62.33,61.58,60.91,60.32,59.78,59.29,58.84,58.42,\\\n",
    "                         58.03,57.67,57.33,57.01,56.71,56.43,56.16,55.90,55.66]\n",
    "case6_Fn_data = 0\n",
    "case6_Fd_data = 0\n",
    "\n",
    "#'(BR, Vc, UCS, Dc, Aw, cutter_DOC_data_list, cutter_IFA_data_list, cutter_Fn_data, cutter_Fd_data)'\n",
    "case6 = cutter(15, 177, 19400, 0.5, 0, case6_DOC_data, case6_IFA_data, case6_Fn_data, case6_Fd_data)\n",
    "#print('Case6 details',case6.__dict__)"
   ]
  },
  {
   "cell_type": "markdown",
   "metadata": {},
   "source": [
    "### Data for Case7: UCS = 19400 psi, Vc = 177 in/sec, BR = 20, Dc = 0.5\""
   ]
  },
  {
   "cell_type": "code",
   "execution_count": 10,
   "metadata": {},
   "outputs": [],
   "source": [
    "case7_DOC_data = [0.001,0.005,0.01,0.015,0.02,0.025,0.03,0.035,0.04,0.045,0.05,0.055\\\n",
    "                ,0.06,0.065,0.07,0.075,0.08,0.085,0.09,0.095,0.1,0.105,0.11,0.115,0.12]\n",
    "case7_IFA_data = [82.65,70.59,65.96,63.39,61.63,60.29,59.22,58.34,\\\n",
    "                         57.58,56.92,56.33,55.81,55.34,54.90,54.51,54.14,\\\n",
    "                         53.80,53.48,53.18,52.90,52.63,52.38,52.14,51.92,51.70]\n",
    "case7_Fn_data = 0\n",
    "case7_Fd_data = 0\n",
    "\n",
    "#'(BR, Vc, UCS, Dc, Aw, cutter_DOC_data_list, cutter_IFA_data_list, cutter_Fn_data, cutter_Fd_data)'\n",
    "case7 = cutter(20, 177, 19400, 0.5, 0, case7_DOC_data, case7_IFA_data, case7_Fn_data, case7_Fd_data)\n",
    "#print('Case7 details',case7.__dict__)"
   ]
  },
  {
   "cell_type": "markdown",
   "metadata": {},
   "source": [
    "### Data for Case8: UCS = 19400 psi, Vc = 177 in/sec, BR = 25, Dc = 0.5\""
   ]
  },
  {
   "cell_type": "code",
   "execution_count": 11,
   "metadata": {},
   "outputs": [],
   "source": [
    "case8_DOC_data = [0.001,0.005,0.01,0.015,0.02,0.025,0.03,0.035,0.04,0.045,0.05,0.055\\\n",
    "                ,0.06,0.065,0.07,0.075,0.08,0.085,0.09,0.095,0.1,0.105,0.11,0.115,0.12]\n",
    "case8_IFA_data = [99.48,77.14,69.14,64.85,61.97,59.82,58.12,56.72,\\\n",
    "                         55.54,54.51,53.61,52.81,52.09,51.44,50.84,50.29,\\\n",
    "                         49.78,49.30,48.86,48.44,48.05,47.68,47.33,47.00,46.69]\n",
    "case8_Fn_data = 0\n",
    "case8_Fd_data = 0\n",
    "\n",
    "#'(BR, Vc, UCS, Dc, Aw, cutter_DOC_data_list, cutter_IFA_data_list, cutter_Fn_data, cutter_Fd_data)'\n",
    "case8 = cutter(25, 177, 19400, 0.5, 0, case8_DOC_data, case8_IFA_data, case8_Fn_data, case8_Fd_data)\n",
    "#print('Case8 details',case8.__dict__)"
   ]
  },
  {
   "cell_type": "markdown",
   "metadata": {},
   "source": [
    "### Data for Case9: UCS = 19400 psi, Vc = 177 in/sec, BR = 30, Dc = 0.5\""
   ]
  },
  {
   "cell_type": "code",
   "execution_count": 12,
   "metadata": {},
   "outputs": [],
   "source": [
    "case9_DOC_data = [0.001,0.005,0.01,0.015,0.02,0.025,0.03,0.035,0.04,0.045,0.05,0.055\\\n",
    "                ,0.06,0.065,0.07,0.075,0.08,0.085,0.09,0.095,0.1,0.105,0.11,0.115,0.12]\n",
    "case9_IFA_data = [76.83,62.32,56.95,54.03,52.04,50.56,49.37,48.39,\\\n",
    "                         47.56,46.84,46.20,45.63,45.12,44.65,44.22,43.83,\\\n",
    "                         43.46,43.12,42.80,42.50,42.22,41.95,41.70,41.46,41.23]\n",
    "case9_Fn_data = 0\n",
    "case9_Fd_data = 0\n",
    "\n",
    "#'(BR, Vc, UCS, Dc, Aw, cutter_DOC_data_list, cutter_IFA_data_list, cutter_Fn_data, cutter_Fd_data)'\n",
    "case9 = cutter(30, 177, 19400, 0.5, 0, case9_DOC_data, case9_IFA_data, case9_Fn_data, case9_Fd_data)\n",
    "#print('Case9 details',case9.__dict__)"
   ]
  },
  {
   "cell_type": "markdown",
   "metadata": {},
   "source": [
    "### Data for Case10: UCS = 21500 psi, Vc = 2.1 in/sec, BR = 20 , Dc = 0.75\", Aw = 0.02 sq-inch"
   ]
  },
  {
   "cell_type": "code",
   "execution_count": 13,
   "metadata": {},
   "outputs": [],
   "source": [
    "case10_DOC_data = [0.023,0.023,0.023,0.023,0.024,0.024,0.024,0.024,0.039,0.04,\\\n",
    "                0.04,0.04,0.041,0.041,0.041,0.042,0.042,0.042,0.042,0.042,\\\n",
    "                0.042,0.042,0.079,0.079,0.079,0.079,0.08]\n",
    "case10_IFA_data = 0\n",
    "case10_Fn_data = [545,568,599,590,610,617,640,619,657,689,699,756,669,676,698,\\\n",
    "               770,770,739,763,741,774,760,855,865,926,918,875]\n",
    "case10_Fd_data = [360,387,392,396,401,412,418,416,461,475,476,517,466,473,481,\\\n",
    "               511,540,518,526,504,522,519,694,694,722,750,710]\n",
    "\n",
    "#'(BR, Vc, UCS, Dc, Aw, cutter_DOC_data_list, cutter_IFA_data_list, cutter_Fn_data, cutter_Fd_data)'\n",
    "case10 = cutter(20, 2.1, 21500, 0.75, 0.02, case10_DOC_data, case10_IFA_data, case10_Fn_data, case10_Fd_data)\n",
    "#print('Case10 details',case10.__dict__)"
   ]
  },
  {
   "cell_type": "code",
   "execution_count": 14,
   "metadata": {},
   "outputs": [],
   "source": [
    "class Full_bit:\n",
    "    \n",
    "    def __init__(self, name, ROP_constant, Data_WOB, Data_RPM, Data_ROP, Db, UCS, CP, NOC, BR, Dc, NOB):\n",
    "        \n",
    "        self.name = name\n",
    "        self.ROPcons = ROP_constant\n",
    "        self.Data_WOB = Data_WOB\n",
    "        self.Data_RPM = Data_RPM\n",
    "        self.Data_ROP = Data_ROP\n",
    "        self.Data_WOB.sort()\n",
    "        self.Data_ROP.sort()\n",
    "        self.Db = Db\n",
    "        self.UCS = UCS\n",
    "        self.NOC = NOC\n",
    "        self.BR = BR\n",
    "        self.Dc = Dc\n",
    "        self.NOB = NOB\n",
    "        self.CP = CP\n",
    "        \n",
    "        \n",
    "        # adjust the UCS for CP using data from \n",
    "        # Winters, W. J., T. M. Warren, and E. C. Onyia. \n",
    "        #\"Roller bit model with rock ductility and cone offset.\" \n",
    "        #In SPE Annual Technical Conference and Exhibition. \n",
    "        #Society of Petroleum Engineers, 1987.\n",
    "        \n",
    "        if self.UCS == 10900: #carthage lime\n",
    "            # incldue the effect of CP\n",
    "            self.UCS = -0.0002*self.CP**2 + 3.6048*self.CP + 10000\n",
    "            \n",
    "        elif self.UCS == 7100: #BSS lime\n",
    "            # incldue the effect of CP\n",
    "            self.UCS = -0.00028*self.CP**2 + 10.4*self.CP + 7400\n",
    "            \n",
    "        elif self.UCS == 21500: #SWG\n",
    "            # incldue the effect of CP\n",
    "            self.UCS = self.UCS\n",
    "        else: #Catoosa Shale lime\n",
    "            # incldue the effect of CP\n",
    "            self.UCS = -0.0002*self.CP**2 + 2.95*self.CP + 5100\n",
    "        \n",
    "        \n",
    "        \n",
    "        self.Ac = math.pi*self.Dc**2 / 4 # cutter face area sq-inch\n",
    "        self.AB_max = self.Ac*math.sin(math.radians(self.BR))\n",
    "        self.Re = self.Db/(2*(2**0.5)) # calculate the equivalent radius\n",
    "        #self.Number_of_DataPoints = len(self.Data_WOB_cont) # continuous\n",
    "        self.Number_of_DataPoints = len(self.Data_WOB) # non.continuous\n",
    "        #self.WOC = [self.Data_WOB_cont[i]/self.NOC for i in range(0,self.Number_of_DataPoints)] # calculate the weight on cutter - continuous\n",
    "        self.WOC = [self.Data_WOB[i]/self.NOC for i in range(0,self.Number_of_DataPoints)] # calculate the weight on cutter - non.continuous\n",
    "        self.A_bit = (math.pi*(self.Db**2))/4 # bit area\n",
    "        self.AB = [WOC/self.UCS for WOC in self.WOC ] # calculate the cutter beanth area\n",
    "        self.AB = [self.AB_max if x > self.AB_max else x for x in self.AB] # filter those values that are greater than availabe cutter beanth area\n",
    "        self.UCSN = self.UCS/5000 # calculate the normalized UCS\n",
    "        self.V_Cutter_Equivalent = [2*math.pi*self.Re*RPM/60 for RPM in self.Data_RPM] # calculate equivalent velocity\n",
    "        self.VN = [V_Cutter_Equivalent/2.1 for V_Cutter_Equivalent in self.V_Cutter_Equivalent] # normalize the equivalent velocity\n",
    "        \n",
    "        \n",
    "    def A_Front(self, AB, IFA):\n",
    "        '''A function that takes the cutter beneath area,\n",
    "        back rake and IFA and returns the cutter front area.'''\n",
    "        return AB/math.tan(math.radians(self.BR+IFA))\n",
    "\n",
    "    def ROP_model(self, AF, RPM):\n",
    "        '''A ROP model (function). A function that takes number of cutters (NOC),\n",
    "        bit equivalent radius (Re), cutter front area (AF), cutter back rake (BR),\n",
    "        interfacial friction angle (IFA), revolutions per minute (RPM), and bit area (A_bit).'''\n",
    "        return ((2*self.NOC*math.pi*self.Re*AF*RPM)/(self.A_bit))*5\n",
    "        \n",
    "        \n",
    "    def Model_IFA(self, DOC, VN, w):\n",
    "        #A model for IFA calculation. it takes DOC,\n",
    "        #normalized cutter velocity, normalized rock \n",
    "        #UCS and cutter back rake and returns the IFA.\n",
    "\n",
    "        DOCn = DOC / self.Dc # normalize DOC\n",
    "        a = w[0] + (w[1])/((VN)**w[2] + w[3])\n",
    "        b = w[4] + (w[5])/((VN)**w[6]+ w[7])\n",
    "        c = w[8]\n",
    "        d = w[9] + w[10]/((self.UCSN**w[11]) + w[12])\n",
    "        \n",
    "        return (a+b/((DOCn**c)+d))-self.BR\n",
    "    \n",
    "    \n",
    "    \n",
    "    def Find_IFA(self, AB, maxvalue, RPM, VN, w):\n",
    "        #A function that finds the best IFA value that satisfy \n",
    "        #both the ROP DOC and developed Model-IFA\n",
    "        diff1 = 1000000000000000 # initite it with a big value\n",
    "        IFA_search = 0\n",
    "\n",
    "        while diff1 > 0.0001 and IFA_search < maxvalue:\n",
    "\n",
    "            IFA_search = IFA_search + 0.1\n",
    "            AF = self.A_Front(AB,IFA_search) #calculate the cutter front area\n",
    "            ROP = self.ROP_model(AF, RPM) # calculate the ROP\n",
    "            DOC = ROP/(RPM*5) # calculate the depth of cut\n",
    "            IFA = self.Model_IFA(DOC, VN, w)\n",
    "            diff2 = abs(IFA_search - IFA)\n",
    "            \n",
    "            if diff2 < diff1:\n",
    "                diff1 = diff2\n",
    "                self.Best_IFA = IFA_search\n",
    "                \n",
    "            '''IFA_search = list(range(0,((90-self.BR)*10),1))\n",
    "            IFA_search = [i/10 for i in IFA_search]\n",
    "            AF = [self.A_Front(AB,IFA_search) for IFA_search in IFA_search]\n",
    "            ROP = [self.ROP_model(AF) for AF in AF]\n",
    "            DOC = [ROP/(self.RPM*5) for ROP in ROP] # calculate the depth of cut\n",
    "            IFA = [self.Model_IFA(DOC) for DOC in DOC]\n",
    "            diff2 = [abs(IFA_search - IFA) for IFA in IFA]\n",
    "            Dic = {'IFA_search':IFA_search, 'AF':AF, 'ROP':ROP, 'DOC':DOC, 'IFA':IFA, 'diff2':diff2}\n",
    "            diff1 = min(Dic['diff2'])\n",
    "            self.Best_IFA = min(Dic['diff2'])'''\n",
    "            \n",
    "\n",
    "        return self.Best_IFA, diff1\n",
    "    \n",
    "    \n",
    "    \n",
    "    def Calculate_ROP(self, AB, maxvalue, RPM, VN, w):\n",
    "        ''' A function that takes the cutter beneath\n",
    "        area and returns the ROP estimated'''\n",
    "        IFA, diff = self.Find_IFA(AB, maxvalue, RPM, VN, w)\n",
    "        AF = self.A_Front(AB,IFA)\n",
    "        Estimated_ROP = self.ROPcons * self.ROP_model(AF, RPM)\n",
    "        return Estimated_ROP, IFA, diff\n",
    "    \n",
    "    def Calculate_fitness(self, w):\n",
    "        \n",
    "        #===========================================================================================================\n",
    "        #ROP calculation\n",
    "        self.ROP_Model_esti_list = []\n",
    "        self.IFAlist = []\n",
    "        self.difflist = []\n",
    "        self.maxvalue = 90 - self.BR\n",
    "    \n",
    "        for i in range(0,self.Number_of_DataPoints):\n",
    "            self.ROP_Model_esti, IFA, diff = self.Calculate_ROP(self.AB[i], self.maxvalue, self.Data_RPM[i], self.VN[i], w)\n",
    "            self.ROP_Model_esti_list.append(self.ROP_Model_esti)\n",
    "            self.difflist.append(diff)\n",
    "            self.maxvalue = IFA # make sure descending trend for IFA vs DOC\n",
    "            self.IFAlist.append(IFA)\n",
    "        #===========================================================================================================    \n",
    "        self.error_ROP_list = [abs((ROP_Model - Data_ROP)/Data_ROP) for ROP_Model, Data_ROP in zip(self.ROP_Model_esti_list,self.Data_ROP)]\n",
    "        self.error_ROP = sum(self.error_ROP_list)/len(self.Data_WOB)\n",
    "        return self.error_ROP\n",
    "        \n",
    "        \n",
    "        \n"
   ]
  },
  {
   "cell_type": "markdown",
   "metadata": {},
   "source": [
    "### Carthage Lime - 8.5\" PDC bit"
   ]
  },
  {
   "cell_type": "code",
   "execution_count": 15,
   "metadata": {},
   "outputs": [],
   "source": [
    "ROP_constant = 0.55"
   ]
  },
  {
   "cell_type": "code",
   "execution_count": 16,
   "metadata": {},
   "outputs": [],
   "source": [
    "#Data for Carthage lime\n",
    "Data_WOB = [2744.23,2721.55,5356.93,6608.84,2585.48,2608.16,5270.74,6518.12,8545.68,8532.07] # insert the WOB data into the list\n",
    "Data_ROP = [9.77,9.57,27.38,34.53,7.74,8.09,22.18,29.77,42.48,42.95] # insert the ROP data into the list\n",
    "Data_RPM = len(Data_WOB)*[120]\n",
    "#'(name, ROP_constant, Data_WOB_cont, Data_WOB, Data_ROP, Db, RPM, UCS, CP, NOC, BR, Dc, NOB)'                                                                                                  #'name, ROP_constant, Data_WOB, Data_RPM, Data_ROP, Db,   UCS,   CP, NOC, BR, Dc, NOB'\n",
    "case3_FullBit = Full_bit('5600m to 5609m-Carthage lime, LPM~1700, CP~1400 psi,\\n PV = 8, UCS = 10900 psi',ROP_constant, Data_WOB, Data_RPM, Data_ROP, 8.5, 10900, 1400, 49, 20, 0.5, 7)\n",
    "\n",
    "\n",
    "#Data for Carthage lime\n",
    "Data_WOB = [408.23,1251.91,2540.12,4209.34,6227.82,8314.35] # insert the WOB data into the list\n",
    "Data_ROP = [0.68,3.85,13.31,24.45,43.60,59.02] # insert the ROP data into the list\n",
    "Data_RPM = len(Data_WOB)*[170]\n",
    "#'(name, ROP_constant, Data_WOB_cont, Data_WOB, Data_ROP, Db, RPM, UCS, CP, NOC, BR, Dc, NOB)'\n",
    "case4_FullBit = Full_bit('5610m to 5615m-Carthage lime, LPM~1700, CP~920 psi,\\n PV = 12, UCS = 10900 psi',ROP_constant, Data_WOB, Data_RPM, Data_ROP, 8.5, 10900, 920, 49, 20, 0.5, 7)\n",
    "\n",
    "\n",
    "#Data for Carthage lime\n",
    "Data_WOB = [408.23,1265.52,2562.80,4286.45,6368.44,8454.96] # insert the WOB data into the list\n",
    "Data_ROP = [0.55,3.19,9.10,17.61,31.26,55.18] # insert the ROP data into the list\n",
    "Data_RPM = len(Data_WOB)*[120]\n",
    "#'(name, ROP_constant, Data_WOB_cont, Data_WOB, Data_ROP, Db, RPM, UCS, CP, NOC, BR, Dc, NOB)'\n",
    "case5_FullBit = Full_bit('5616m to 5621m-Carthage lime, LPM~1700, CP~807 psi,\\n PV = 13, UCS = 10900 psi',ROP_constant, Data_WOB, Data_RPM, Data_ROP, 8.5, 10900, 807, 49, 20, 0.5, 7)\n",
    "\n",
    "\n",
    "#Data for Carthage lime\n",
    "Data_WOB = [340.19,1202.02,2444.86,3996.15,6114.42] # insert the WOB data into the list\n",
    "Data_ROP = [0.59,4.80,16.11,39.19,53.10] # insert the ROP data into the list\n",
    "Data_RPM = len(Data_WOB)*[120]\n",
    "#'(name, ROP_constant, Data_WOB_cont, Data_WOB, Data_ROP, Db, RPM, UCS, CP, NOC, BR, Dc, NOB)'\n",
    "case6_FullBit = Full_bit('5626m to 5630m-Carthage lime, LPM~1700, CP~1125 psi,\\n PV = 15, UCS = 10900 psi',ROP_constant, Data_WOB, Data_RPM, Data_ROP, 8.5, 10900, 1125, 49, 20, 0.5, 7)\n",
    "\n",
    "\n",
    "#Data for Carthage lime\n",
    "Data_WOB = [294.84,317.51,1460.57,2721.55,4036.97,5352.39] # insert the WOB data into the list\n",
    "Data_ROP = [4.3617,5.1603,17.5656,22.7320,22.9758,28.0325] # insert the ROP data into the list\n",
    "Data_RPM = len(Data_WOB)*[120]\n",
    "#'(name, ROP_constant, Data_WOB_cont, Data_WOB, Data_ROP, Db, RPM, UCS, CP, NOC, BR, Dc, NOB)'\n",
    "case7_FullBit = Full_bit('5631m to 5636m-Carthage lime, LPM~1700, CP~1444 psi,\\n PV = 8, UCS = 10900 psi',ROP_constant, Data_WOB, Data_RPM, Data_ROP, 8.5, 10900, 1444, 49, 20, 0.5, 7)\n",
    "\n",
    "\n",
    "#Data for Carthage lime\n",
    "Data_WOB = [90.72,272.16,1383.46,2508.37,3887.29,5493.00,6758.53] # insert the WOB data into the list\n",
    "Data_ROP = [16.07,2.01,18.50,29.78,30.66,38.18,46.60] # insert the ROP data into the list\n",
    "Data_RPM = len(Data_WOB)*[120]\n",
    "#'(name, ROP_constant, Data_WOB_cont, Data_WOB, Data_ROP, Db, RPM, UCS, CP, NOC, BR, Dc, NOB)'\n",
    "case8_FullBit = Full_bit('5637m to 5643m-Carthage lime, LPM~1700, CP~1560 psi,\\n PV = 5, UCS = 10900 psi',ROP_constant, Data_WOB, Data_RPM, Data_ROP, 8.5, 10900, 1560, 49, 20, 0.5, 7)\n",
    "\n",
    "\n",
    "#Data for Carthage lime\n",
    "Data_WOB = [362.87,1179.34,2490.22,4154.91,5325.17,5325.17] # insert the WOB data into the list\n",
    "Data_ROP = [2.75,9.38,14.40,28.33,44.67,45.33] # insert the ROP data into the list\n",
    "Data_RPM = len(Data_WOB)*[155]\n",
    "#'(name, ROP_constant, Data_WOB_cont, Data_WOB, Data_ROP, Db, RPM, UCS, CP, NOC, BR, Dc, NOB)'\n",
    "case9_FullBit = Full_bit('5644m to 5649m-Carthage lime, LPM~1700, CP~800 psi,\\n PV = 13, UCS = 10900 psi',ROP_constant, Data_WOB, Data_RPM, Data_ROP, 8.5, 10900, 800, 49, 20, 0.5, 7)\n",
    "\n",
    "\n",
    "#Data for Carthage lime\n",
    "Data_WOB = [2585.48,2608.16,5270.74,6518.12,8545.68,8532.07] # insert the WOB data into the list\n",
    "Data_ROP = [7.74,8.09,22.18,29.77,42.48,42.95] # insert the ROP data into the list\n",
    "Data_RPM = len(Data_WOB)*[120]\n",
    "#'(name, ROP_constant, Data_WOB_cont, Data_WOB, Data_ROP, Db, RPM, UCS, CP, NOC, BR, Dc, NOB)'\n",
    "case21_FullBit = Full_bit('Carthage lime, PV = 12, UCS = 10900 psi',ROP_constant, Data_WOB, Data_RPM, Data_ROP, 8.5, 10900, 1200, 49, 13, 0.5, 7)\n",
    "\n",
    "\n",
    "#Data for Carthage lime\n",
    "Data_WOB = [408.23,1251.91,2540.12,4209.34,6227.82,8314.35] # insert the WOB data into the list\n",
    "Data_ROP = [0.68,3.85,13.31,24.45,43.60,59.02] # insert the ROP data into the list\n",
    "Data_RPM = len(Data_WOB)*[175]\n",
    "#'(name, ROP_constant, Data_WOB_cont, Data_WOB, Data_ROP, Db, RPM, UCS, CP, NOC, BR, Dc, NOB)'\n",
    "case22_FullBit = Full_bit('Carthage lime, PV = 12, UCS = 10900 psi',ROP_constant, Data_WOB, Data_RPM, Data_ROP, 8.5, 10900, 1200, 49, 13, 0.5, 7)\n",
    "\n",
    "\n",
    "#Data for Carthage lime\n",
    "Data_WOB = [408.23,1265.52,2562.80,4286.45,6368.44,8454.96] # insert the WOB data into the list\n",
    "Data_ROP = [0.55,3.19,9.10,17.61,31.26,55.18] # insert the ROP data into the list\n",
    "Data_RPM = len(Data_WOB)*[120]\n",
    "#'(name, ROP_constant, Data_WOB_cont, Data_WOB, Data_ROP, Db, RPM, UCS, CP, NOC, BR, Dc, NOB)'\n",
    "case23_FullBit = Full_bit('Carthage lime, PV = 12, UCS = 10900 psi',ROP_constant, Data_WOB, Data_RPM, Data_ROP, 8.5, 10900, 1200, 49, 13, 0.5, 7)\n",
    "\n",
    "\n",
    "#Data for Carthage lime\n",
    "Data_WOB = [340.19,1202.02,2444.86,3996.15,6114.42] # insert the WOB data into the list\n",
    "Data_ROP = [0.59,4.80,16.11,39.19,53.10] # insert the ROP data into the list\n",
    "Data_RPM = len(Data_WOB)*[120]\n",
    "#'(name, ROP_constant, Data_WOB_cont, Data_WOB, Data_ROP, Db, RPM, UCS, CP, NOC, BR, Dc, NOB)'\n",
    "case24_FullBit = Full_bit('Carthage lime, PV = 12, UCS = 10900 psi',ROP_constant, Data_WOB, Data_RPM, Data_ROP, 8.5, 10900, 362, 49, 13, 0.5, 7)\n",
    "\n"
   ]
  },
  {
   "cell_type": "markdown",
   "metadata": {},
   "source": [
    "# Reedhycalog data"
   ]
  },
  {
   "cell_type": "code",
   "execution_count": 17,
   "metadata": {},
   "outputs": [],
   "source": [
    "#Data for SWG\n",
    "Data_WOB = [2200, 2800, 3200, 3550, 4000, 4500, 4900] # insert the WOB data into the list\n",
    "Data_ROP = [2, 5, 10, 16.5, 26.5, 34.5, 41] # insert the ROP data into the list\n",
    "Data_RPM = len(Data_WOB)*[80]\n",
    "#'(name, ROP_constant, Data_WOB_cont, Data_WOB, Data_ROP, Db, RPM, UCS, CP, NOC, BR, Dc, NOB)'\n",
    "case25_FullBit = Full_bit('Reedhycalog, 80 RPM, SWG',ROP_constant, Data_WOB, Data_RPM, Data_ROP, 3.75, 21500, 0, 12, 20, 0.5, 7)"
   ]
  },
  {
   "cell_type": "markdown",
   "metadata": {},
   "source": [
    "# DEA"
   ]
  },
  {
   "cell_type": "code",
   "execution_count": 18,
   "metadata": {},
   "outputs": [],
   "source": [
    "def de(fobj, bounds, mut=0.8, crossp=0.7, popsize=100, its=10):\n",
    "    dimensions = len(bounds)\n",
    "    pop = np.random.rand(popsize, dimensions)\n",
    "    min_b, max_b = np.asarray(bounds).T\n",
    "    diff = np.fabs(min_b - max_b)\n",
    "    pop_denorm = min_b + pop * diff\n",
    "    fitness = np.asarray([fobj(ind) for ind in pop_denorm])\n",
    "    best_idx = np.argmin(fitness)\n",
    "    best = pop_denorm[best_idx]\n",
    "    for i in range(its):\n",
    "        for j in range(popsize):\n",
    "            idxs = [idx for idx in range(popsize) if idx != j]\n",
    "            a, b, c = pop[np.random.choice(idxs, 3, replace = False)]\n",
    "            mutant = np.clip(a + mut * (b - c), 0, 1)\n",
    "            cross_points = np.random.rand(dimensions) < crossp\n",
    "            if not np.any(cross_points):\n",
    "                cross_points[np.random.randint(0, dimensions)] = True\n",
    "            trial = np.where(cross_points, mutant, pop[j])\n",
    "            trial_denorm = min_b + trial * diff\n",
    "            f = fobj(trial_denorm)\n",
    "            if f < fitness[j]:\n",
    "                fitness[j] = f\n",
    "                pop[j] = trial\n",
    "                if f < fitness[best_idx]:\n",
    "                    best_idx = j\n",
    "                    best = trial_denorm\n",
    "        #print(\"Iteration number= %s\" % (i))\n",
    "        #print(\"Best Fitness= %s\" % (fitness[best_idx]))\n",
    "        #print(\"Best values= %s\" % (best))\n",
    "        yield best, fitness[best_idx]"
   ]
  },
  {
   "cell_type": "code",
   "execution_count": 19,
   "metadata": {},
   "outputs": [],
   "source": [
    "#Define objective function-min sq\n",
    "def ERROR(w):\n",
    "    #============================\n",
    "    w = w.tolist()\n",
    "    #=====================================\n",
    "    ERROR_value1 =\\\n",
    "    case3_FullBit.Calculate_fitness(w)+\\\n",
    "    case4_FullBit.Calculate_fitness(w)+\\\n",
    "    case5_FullBit.Calculate_fitness(w)+\\\n",
    "    case6_FullBit.Calculate_fitness(w)+\\\n",
    "    case7_FullBit.Calculate_fitness(w)+\\\n",
    "    case8_FullBit.Calculate_fitness(w)+\\\n",
    "    case9_FullBit.Calculate_fitness(w)+\\\n",
    "    case21_FullBit.Calculate_fitness(w)+\\\n",
    "    case22_FullBit.Calculate_fitness(w)+\\\n",
    "    case23_FullBit.Calculate_fitness(w)+\\\n",
    "    case24_FullBit.Calculate_fitness(w)+\\\n",
    "    case25_FullBit.Calculate_fitness(w)\n",
    "    #=====================================\n",
    "    \n",
    "    ERROR_value2 =\\\n",
    "    case1.Calculate_fitness(w)+\\\n",
    "    case2.Calculate_fitness(w)+\\\n",
    "    case3.Calculate_fitness(w)+\\\n",
    "    case4.Calculate_fitness(w)+\\\n",
    "    case5.Calculate_fitness(w)+\\\n",
    "    case6.Calculate_fitness(w)+\\\n",
    "    case7.Calculate_fitness(w)+\\\n",
    "    case8.Calculate_fitness(w)+\\\n",
    "    case9.Calculate_fitness(w)+\\\n",
    "    case10.Calculate_fitness(w)\n",
    "    \n",
    "    #=====================================\n",
    "    ERROR_value1 = ERROR_value1 / 12\n",
    "    #=====================================   \n",
    "    #ERROR_value1 = case25_FullBit.Calculate_fitness(w)\n",
    "    a = case2.Calculate_fitness(w)+case3.Calculate_fitness(w)+\\\n",
    "    case10.Calculate_fitness(w)\n",
    "    a = a / 3\n",
    "    b = case4.Calculate_fitness(w)+case5.Calculate_fitness(w)+\\\n",
    "    case6.Calculate_fitness(w)+case7.Calculate_fitness(w)+\\\n",
    "    case8.Calculate_fitness(w)+case9.Calculate_fitness(w)\n",
    "    b = b / 6\n",
    "    c = (a + b) / 2\n",
    "    ERROR_value2 = c\n",
    "    #============================\n",
    "    ERROR_value = (ERROR_value1 + ERROR_value2) / 2\n",
    "    #============================\n",
    "    return (ERROR_value)"
   ]
  },
  {
   "cell_type": "markdown",
   "metadata": {},
   "source": [
    "# Parallel computing"
   ]
  },
  {
   "cell_type": "code",
   "execution_count": 20,
   "metadata": {},
   "outputs": [
    {
     "data": {
      "text/plain": [
       "'#Define objective function-min sq\\ndef ERROR(w):\\n\\n    #============================\\n    w = w.tolist()\\n    #============================\\n    with concurrent.futures.ProcessPoolExecutor() as executor:\\n        \\n        f1 = executor.submit(case1_FullBit.Calculate_fitness, w)\\n        f2 = executor.submit(case2_FullBit.Calculate_fitness, w)\\n        f3 = executor.submit(case3_FullBit.Calculate_fitness, w)\\n        f4 = executor.submit(case4_FullBit.Calculate_fitness, w)\\n        f5 = executor.submit(case5_FullBit.Calculate_fitness, w)\\n        f6 = executor.submit(case6_FullBit.Calculate_fitness, w)\\n        \\n        f7 = executor.submit(case1.Calculate_fitness, w)\\n        f8 = executor.submit(case2.Calculate_fitness, w)\\n        f9 = executor.submit(case3.Calculate_fitness, w)\\n        f10 = executor.submit(case4.Calculate_fitness, w)\\n        f11 = executor.submit(case5.Calculate_fitness, w)\\n        f12 = executor.submit(case6.Calculate_fitness, w)\\n        f13 = executor.submit(case7.Calculate_fitness, w)\\n        f14 = executor.submit(case8.Calculate_fitness, w)\\n        f15 = executor.submit(case9.Calculate_fitness, w)\\n        f16 = executor.submit(case10.Calculate_fitness, w)\\n\\n\\n    ERROR_value1 =    f1.result()+    f2.result()+    f3.result()+    f4.result()+    f5.result()+    f6.result()\\n\\n    #============================\\n    ERROR_value2 =    f7.result()+    f8.result()+    f9.result()+    f10.result()+    f11.result()+    f12.result()+    f13.result()+    f14.result()+    f15.result()+    f16.result()\\n\\n    #============================\\n    ERROR_value = (ERROR_value1/6 + ERROR_value2/10)/2\\n    #============================\\n    #print(ERROR_value1/ERROR_value2)\\n    #print(ERROR_value2)\\n\\n    return (ERROR_value)'"
      ]
     },
     "execution_count": 20,
     "metadata": {},
     "output_type": "execute_result"
    }
   ],
   "source": [
    "'''#Define objective function-min sq\n",
    "def ERROR(w):\n",
    "\n",
    "    #============================\n",
    "    w = w.tolist()\n",
    "    #============================\n",
    "    with concurrent.futures.ProcessPoolExecutor() as executor:\n",
    "        \n",
    "        f1 = executor.submit(case1_FullBit.Calculate_fitness, w)\n",
    "        f2 = executor.submit(case2_FullBit.Calculate_fitness, w)\n",
    "        f3 = executor.submit(case3_FullBit.Calculate_fitness, w)\n",
    "        f4 = executor.submit(case4_FullBit.Calculate_fitness, w)\n",
    "        f5 = executor.submit(case5_FullBit.Calculate_fitness, w)\n",
    "        f6 = executor.submit(case6_FullBit.Calculate_fitness, w)\n",
    "        \n",
    "        f7 = executor.submit(case1.Calculate_fitness, w)\n",
    "        f8 = executor.submit(case2.Calculate_fitness, w)\n",
    "        f9 = executor.submit(case3.Calculate_fitness, w)\n",
    "        f10 = executor.submit(case4.Calculate_fitness, w)\n",
    "        f11 = executor.submit(case5.Calculate_fitness, w)\n",
    "        f12 = executor.submit(case6.Calculate_fitness, w)\n",
    "        f13 = executor.submit(case7.Calculate_fitness, w)\n",
    "        f14 = executor.submit(case8.Calculate_fitness, w)\n",
    "        f15 = executor.submit(case9.Calculate_fitness, w)\n",
    "        f16 = executor.submit(case10.Calculate_fitness, w)\n",
    "\n",
    "\n",
    "    ERROR_value1 =\\\n",
    "    f1.result()+\\\n",
    "    f2.result()+\\\n",
    "    f3.result()+\\\n",
    "    f4.result()+\\\n",
    "    f5.result()+\\\n",
    "    f6.result()\n",
    "\n",
    "    #============================\n",
    "    ERROR_value2 =\\\n",
    "    f7.result()+\\\n",
    "    f8.result()+\\\n",
    "    f9.result()+\\\n",
    "    f10.result()+\\\n",
    "    f11.result()+\\\n",
    "    f12.result()+\\\n",
    "    f13.result()+\\\n",
    "    f14.result()+\\\n",
    "    f15.result()+\\\n",
    "    f16.result()\n",
    "\n",
    "    #============================\n",
    "    ERROR_value = (ERROR_value1/6 + ERROR_value2/10)/2\n",
    "    #============================\n",
    "    #print(ERROR_value1/ERROR_value2)\n",
    "    #print(ERROR_value2)\n",
    "\n",
    "    return (ERROR_value)'''"
   ]
  },
  {
   "cell_type": "code",
   "execution_count": 21,
   "metadata": {},
   "outputs": [
    {
     "name": "stdout",
     "output_type": "stream",
     "text": [
      "--- 3127.0442445278168 seconds ---\n"
     ]
    }
   ],
   "source": [
    "start_time = time.time()\n",
    "#Apply the DE algorithm to the function + boundries and number of iterations\n",
    "result = list(de(ERROR, [(0, 100),(-200, 0),(0, 2.5),(0, 100),\\\n",
    "                         (0, 100),(-200, 0),(0, 2.5),(0, 100),\\\n",
    "                         (0, 2),\\\n",
    "                         (0, 100),(0, 200),(0, 2.5),(0, 100)], mut=0.7, crossp=0.8, popsize=25, its=1000))\n",
    "df = pd.DataFrame(result)\n",
    "print(\"--- %s seconds ---\" % (time.time() - start_time))"
   ]
  },
  {
   "cell_type": "code",
   "execution_count": 22,
   "metadata": {},
   "outputs": [
    {
     "name": "stdout",
     "output_type": "stream",
     "text": [
      "                                                     0         1\n",
      "999  [19.184400489874037, -127.07982888440776, 0.65...  0.202387\n"
     ]
    }
   ],
   "source": [
    "print(df.tail(1))"
   ]
  },
  {
   "cell_type": "code",
   "execution_count": 23,
   "metadata": {},
   "outputs": [
    {
     "name": "stdout",
     "output_type": "stream",
     "text": [
      "[(19.184400489874037,), (-127.07982888440776,), (0.6533611703184311,), (2.685118495557242,), (81.35607013492762,), (-26.052924644320996,), (1.6623591061860816,), (53.15291030463235,), (0.3362859442160266,), (0.010774893849365282,), (102.28585793964906,), (2.4844933007511614,), (97.0366648666049,)]\n"
     ]
    }
   ],
   "source": [
    "df['w1'], df['w2'],df['w3'], df['w4'], df['w5'],\\\n",
    "df['w6'], df['w7'],df['w8'], df['w9'], df['w10'],\\\n",
    "df['w11'], df['w12'], df['w13']= zip(*df[0])\n",
    "cols = [0]\n",
    "df.drop(df.columns[cols],axis=1,inplace=True)\n",
    "df.columns.values[0] = \"Fitness\"\n",
    "best_coff = list(zip(df.iloc[len(df)-1,1:]))\n",
    "print(best_coff)"
   ]
  },
  {
   "cell_type": "code",
   "execution_count": 24,
   "metadata": {},
   "outputs": [
    {
     "name": "stderr",
     "output_type": "stream",
     "text": [
      "/opt/conda/lib/python3.6/site-packages/matplotlib/font_manager.py:1241: UserWarning: findfont: Font family ['normal'] not found. Falling back to DejaVu Sans.\n",
      "  (prop.get_family(), self.defaultFamily[fontext]))\n"
     ]
    },
    {
     "data": {
      "image/png": "[encoded data removed]",
      "text/plain": [
       "<Figure size 1512x1728 with 14 Axes>"
      ]
     },
     "metadata": {
      "needs_background": "light"
     },
     "output_type": "display_data"
    }
   ],
   "source": [
    "data_ncol=len(df.columns)\n",
    "#Plot fitness versus iteration\n",
    "fig = plt.figure(figsize=(21,24))\n",
    "font = {'family' : 'normal',\n",
    "        'size'   : 10}\n",
    "matplotlib.rc('font', **font)\n",
    "\n",
    "for i in range(1,(data_ncol+1)):\n",
    "    if i<data_ncol:\n",
    "\n",
    "        plt.subplot(5, 3, i)\n",
    "        plt.plot(df['w{}'.format(i)],'bo', markersize=4)\n",
    "        plt.xlabel('Iteration', fontsize=18)\n",
    "        plt.ylabel('w{}'.format(i), fontsize=18)\n",
    "        plt.grid(True)\n",
    "    else:       \n",
    "\n",
    "        plt.subplot(5, 3, data_ncol)\n",
    "        plt.plot(df['Fitness'],'red', markersize=4)\n",
    "        plt.xlabel('Iteration', fontsize=18)\n",
    "        plt.ylabel('Absolute difference Error', fontsize=18)\n",
    "        plt.grid(True)\n",
    "plt.show()"
   ]
  }
 ],
 "metadata": {
  "kernelspec": {
   "display_name": "Python 3",
   "language": "python",
   "name": "python3"
  },
  "language_info": {
   "codemirror_mode": {
    "name": "ipython",
    "version": 3
   },
   "file_extension": ".py",
   "mimetype": "text/x-python",
   "name": "python",
   "nbconvert_exporter": "python",
   "pygments_lexer": "ipython3",
   "version": "3.7.3"
  }
 },
 "nbformat": 4,
 "nbformat_minor": 1
}
